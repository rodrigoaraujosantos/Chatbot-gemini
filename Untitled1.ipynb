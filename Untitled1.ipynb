{
  "nbformat": 4,
  "nbformat_minor": 0,
  "metadata": {
    "colab": {
      "provenance": [],
      "authorship_tag": "ABX9TyOKgHrnBJ0lnL+L8QNAly/i",
      "include_colab_link": true
    },
    "kernelspec": {
      "name": "python3",
      "display_name": "Python 3"
    },
    "language_info": {
      "name": "python"
    }
  },
  "cells": [
    {
      "cell_type": "markdown",
      "metadata": {
        "id": "view-in-github",
        "colab_type": "text"
      },
      "source": [
        "<a href=\"https://colab.research.google.com/github/rodrigoaraujosantos/Chatbot-gemini/blob/main/Untitled1.ipynb\" target=\"_parent\"><img src=\"https://colab.research.google.com/assets/colab-badge.svg\" alt=\"Open In Colab\"/></a>"
      ]
    },
    {
      "cell_type": "markdown",
      "source": [
        "Instalando SDK do Google.\n"
      ],
      "metadata": {
        "id": "AFpEmrNQfuQe"
      }
    },
    {
      "cell_type": "code",
      "execution_count": 7,
      "metadata": {
        "id": "ugbkrtmWa3K5"
      },
      "outputs": [],
      "source": [
        "!pip install -q -U google-generativeai"
      ]
    },
    {
      "cell_type": "code",
      "source": [
        "import google.generativeai as genai\n",
        "from google.colab import userdata\n",
        "api_key = userdata.get('SECRET_KEY')\n",
        "\n",
        "GOOGLE_API_KEY=api_key\n",
        "genai.configure(api_key=GOOGLE_API_KEY)"
      ],
      "metadata": {
        "id": "ETSn_3mFgOLQ"
      },
      "execution_count": 26,
      "outputs": []
    },
    {
      "cell_type": "markdown",
      "source": [
        "Listar os modelos disponíveis."
      ],
      "metadata": {
        "id": "A5uNkaWZggTo"
      }
    },
    {
      "cell_type": "code",
      "source": [
        "for m in genai.list_models():\n",
        "  if 'generateContent' in m.supported_generation_methods:\n",
        "    print(m.name)"
      ],
      "metadata": {
        "colab": {
          "base_uri": "https://localhost:8080/",
          "height": 138
        },
        "id": "c6ZatdNAgn7-",
        "outputId": "8ee610a8-1d24-4518-b9dc-326e6226608d"
      },
      "execution_count": 27,
      "outputs": [
        {
          "output_type": "stream",
          "name": "stdout",
          "text": [
            "models/gemini-1.0-pro\n",
            "models/gemini-1.0-pro-001\n",
            "models/gemini-1.0-pro-latest\n",
            "models/gemini-1.0-pro-vision-latest\n",
            "models/gemini-1.5-pro-latest\n",
            "models/gemini-pro\n",
            "models/gemini-pro-vision\n"
          ]
        }
      ]
    },
    {
      "cell_type": "code",
      "source": [
        "generation_config = {\n",
        "    \"candidate_count\": 1,\n",
        "    \"temperature\": 0.5,\n",
        "}"
      ],
      "metadata": {
        "id": "Yaw6vCt_m2cB"
      },
      "execution_count": 28,
      "outputs": []
    },
    {
      "cell_type": "code",
      "source": [
        "safety_settings = {\n",
        "    'HARASSMENT': 'BLOCK_NONE',\n",
        "    'HATE': 'BLOCK_NONE',\n",
        "    'SEXUAL': 'BLOCK_NONE',\n",
        "    'DANGEROUS': 'BLOCK_NONE'\n",
        "}"
      ],
      "metadata": {
        "id": "9L6hGxqLnvax"
      },
      "execution_count": 29,
      "outputs": []
    },
    {
      "cell_type": "markdown",
      "source": [
        "Iniciando o modelo"
      ],
      "metadata": {
        "id": "twb_0Xj3pO4I"
      }
    },
    {
      "cell_type": "code",
      "source": [
        "model = genai.GenerativeModel(model_name='gemini-1.0-pro',\n",
        "                              generation_config=generation_config,\n",
        "                              safety_settings=safety_settings)"
      ],
      "metadata": {
        "id": "b7bBdC89oycT"
      },
      "execution_count": 30,
      "outputs": []
    },
    {
      "cell_type": "code",
      "source": [
        "response = model.generate_content(\"Vamos aprender conteúdo sobre IA, me de sugestões.\")\n",
        "print(response.text)"
      ],
      "metadata": {
        "colab": {
          "base_uri": "https://localhost:8080/",
          "height": 815
        },
        "id": "G7srwjaPqrJE",
        "outputId": "ce376f6c-63bd-4d76-9b58-51279b9396e1"
      },
      "execution_count": 31,
      "outputs": [
        {
          "output_type": "stream",
          "name": "stdout",
          "text": [
            "**Livros:**\n",
            "\n",
            "* \"Inteligência Artificial: Uma Abordagem Moderna\" por Stuart Russell e Peter Norvig\n",
            "* \"Aprendizado de Máquina\" por Tom Mitchell\n",
            "* \"Aprendizado Profundo\" por Ian Goodfellow, Yoshua Bengio e Aaron Courville\n",
            "* \"Inteligência Artificial para Todos\" por Andrew Ng e Ernest Davis\n",
            "* \"Inteligência Artificial: Princípios e Técnicas\" por Michael Wooldridge e Michael Luck\n",
            "\n",
            "**Cursos Online:**\n",
            "\n",
            "* **Coursera:**\n",
            "    * Aprendizado de Máquina Especialização\n",
            "    * Inteligência Artificial Especialização\n",
            "    * Aprendizado Profundo Especialização\n",
            "* **edX:**\n",
            "    * Introdução à Inteligência Artificial\n",
            "    * Ciência de Dados e Aprendizado de Máquina\n",
            "    * Aprendizado Profundo e Redes Neurais\n",
            "* **Udemy:**\n",
            "    * Curso Completo de Inteligência Artificial\n",
            "    * O Guia Completo de Aprendizado de Máquina\n",
            "    * Curso de Aprendizado Profundo\n",
            "\n",
            "**Podcasts:**\n",
            "\n",
            "* **Lex Fridman Podcast:** Entrevistas com especialistas em IA\n",
            "* **Machine Learning Podcast:** Notícias e discussões sobre aprendizado de máquina\n",
            "* **The AI Podcast:** Entrevistas com líderes da indústria de IA\n",
            "* **Data Skeptic:** Análise crítica de tendências e hype de IA\n",
            "* **Artificial Intelligence Podcast:** Entrevistas e discussões sobre o impacto social da IA\n",
            "\n",
            "**Revistas e Publicações:**\n",
            "\n",
            "* **Nature Machine Intelligence:** Pesquisa de ponta em IA\n",
            "* **IEEE Transactions on Artificial Intelligence:** Artigos revisados por pares sobre IA\n",
            "* **AI Magazine:** Artigos e notícias sobre o estado da arte da IA\n",
            "* **MIT Technology Review:** Cobertura de tendências e inovações em IA\n",
            "* **Wired:** Artigos sobre o impacto social e ético da IA\n",
            "\n",
            "**Conferências:**\n",
            "\n",
            "* **Conferência Internacional sobre Aprendizado de Máquina (ICML)**\n",
            "* **Conferência Internacional sobre Inteligência Artificial (IJCAI)**\n",
            "* **Conferência Neural Information Processing Systems (NeurIPS)**\n",
            "* **Conferência sobre Visão Computacional e Reconhecimento de Padrões (CVPR)**\n",
            "* **Conferência sobre Processamento de Linguagem Natural (ACL)**\n"
          ]
        }
      ]
    },
    {
      "cell_type": "code",
      "source": [
        "chat = model.start_chat(history=[])"
      ],
      "metadata": {
        "id": "OYWMQc5VrQMS"
      },
      "execution_count": 32,
      "outputs": []
    },
    {
      "cell_type": "code",
      "source": [
        "prompt = input('Esperando o prompt: ')\n",
        "\n",
        "while prompt != 'fim':\n",
        "  response = chat.send_message(prompt)\n",
        "  print('Resposta: ', response.text, '\\n')\n",
        "  prompt = input('Esperando o prompt: ')"
      ],
      "metadata": {
        "colab": {
          "base_uri": "https://localhost:8080/",
          "height": 280
        },
        "id": "dnzgA61Krol_",
        "outputId": "614bd02b-f224-48e3-e658-3313b0123f3a"
      },
      "execution_count": 33,
      "outputs": [
        {
          "name": "stdout",
          "output_type": "stream",
          "text": [
            "Esperando o prompt: Que dia do mês é hoje?\n",
            "Resposta:  Esta informação não está disponível para mim, pois não tenho acesso a dados em tempo real. Recomendo verificar um calendário ou uma fonte confiável de informações de data e hora. \n",
            "\n",
            "Esperando o prompt: ok, então me diga o dia das mães\n",
            "Resposta:  O Dia das Mães é comemorado em diferentes datas em todo o mundo. Aqui estão algumas das datas mais comuns:\n",
            "\n",
            "* **Segundo domingo de maio:** Estados Unidos, Canadá, Austrália, Nova Zelândia, China, Japão, Filipinas e muitos outros países\n",
            "* **Último domingo de maio:** França, Bélgica, Suíça, Turquia e alguns outros países\n",
            "* **10 de maio:** México, Guatemala, El Salvador e alguns outros países da América Latina\n",
            "* **8 de março:** Dia Internacional da Mulher (também comemorado como Dia das Mães em alguns países, como Rússia, Sérvia e Bulgária)\n",
            "\n",
            "No Brasil, o Dia das Mães é comemorado no **segundo domingo de maio**. Em 2023, o Dia das Mães no Brasil será em **14 de maio**. \n",
            "\n",
            "Esperando o prompt: fim\n"
          ]
        }
      ]
    },
    {
      "cell_type": "code",
      "source": [
        "import textwrap\n",
        "from IPython.display import display\n",
        "from IPython.display import Markdown\n",
        "\n",
        "def to_markdown(text):\n",
        "  text = text.replace('.', ' *')\n",
        "  return Markdown(textwrap.indent(text, '> ', predicate=lambda _: True))\n",
        "\n",
        "for message in chat.history:\n",
        "  display(to_markdown(f'**{message.role}**: {message.parts[0].text}'))\n",
        "  print('--------------------------------------------')"
      ],
      "metadata": {
        "colab": {
          "base_uri": "https://localhost:8080/",
          "height": 384
        },
        "id": "EgSkQ1_Rv8Yc",
        "outputId": "d8908f91-3be2-425b-b2f2-05e9b627eb42"
      },
      "execution_count": 34,
      "outputs": [
        {
          "output_type": "display_data",
          "data": {
            "text/plain": [
              "<IPython.core.display.Markdown object>"
            ],
            "text/markdown": "> **user**: Que dia do mês é hoje?"
          },
          "metadata": {}
        },
        {
          "output_type": "stream",
          "name": "stdout",
          "text": [
            "--------------------------------------------\n"
          ]
        },
        {
          "output_type": "display_data",
          "data": {
            "text/plain": [
              "<IPython.core.display.Markdown object>"
            ],
            "text/markdown": "> **model**: Esta informação não está disponível para mim, pois não tenho acesso a dados em tempo real * Recomendo verificar um calendário ou uma fonte confiável de informações de data e hora *"
          },
          "metadata": {}
        },
        {
          "output_type": "stream",
          "name": "stdout",
          "text": [
            "--------------------------------------------\n"
          ]
        },
        {
          "output_type": "display_data",
          "data": {
            "text/plain": [
              "<IPython.core.display.Markdown object>"
            ],
            "text/markdown": "> **user**: ok, então me diga o dia das mães"
          },
          "metadata": {}
        },
        {
          "output_type": "stream",
          "name": "stdout",
          "text": [
            "--------------------------------------------\n"
          ]
        },
        {
          "output_type": "display_data",
          "data": {
            "text/plain": [
              "<IPython.core.display.Markdown object>"
            ],
            "text/markdown": "> **model**: O Dia das Mães é comemorado em diferentes datas em todo o mundo * Aqui estão algumas das datas mais comuns:\n> \n> * **Segundo domingo de maio:** Estados Unidos, Canadá, Austrália, Nova Zelândia, China, Japão, Filipinas e muitos outros países\n> * **Último domingo de maio:** França, Bélgica, Suíça, Turquia e alguns outros países\n> * **10 de maio:** México, Guatemala, El Salvador e alguns outros países da América Latina\n> * **8 de março:** Dia Internacional da Mulher (também comemorado como Dia das Mães em alguns países, como Rússia, Sérvia e Bulgária)\n> \n> No Brasil, o Dia das Mães é comemorado no **segundo domingo de maio** * Em 2023, o Dia das Mães no Brasil será em **14 de maio** *"
          },
          "metadata": {}
        },
        {
          "output_type": "stream",
          "name": "stdout",
          "text": [
            "--------------------------------------------\n"
          ]
        }
      ]
    }
  ]
}